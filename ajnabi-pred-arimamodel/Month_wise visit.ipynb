{
 "cells": [
  {
   "cell_type": "code",
   "execution_count": 1,
   "metadata": {
    "collapsed": true
   },
   "outputs": [],
   "source": [
    "import pandas as pd\n",
    "import numpy as np\n",
    "import datetime"
   ]
  },
  {
   "cell_type": "code",
   "execution_count": 2,
   "metadata": {
    "collapsed": true
   },
   "outputs": [],
   "source": [
    "data=pd.read_csv('customer_history.csv',sep=';')"
   ]
  },
  {
   "cell_type": "code",
   "execution_count": 3,
   "metadata": {},
   "outputs": [
    {
     "data": {
      "text/plain": [
       "(1499, 12)"
      ]
     },
     "execution_count": 3,
     "metadata": {},
     "output_type": "execute_result"
    }
   ],
   "source": [
    "data.shape"
   ]
  },
  {
   "cell_type": "code",
   "execution_count": 4,
   "metadata": {},
   "outputs": [
    {
     "data": {
      "text/html": [
       "<div>\n",
       "<style scoped>\n",
       "    .dataframe tbody tr th:only-of-type {\n",
       "        vertical-align: middle;\n",
       "    }\n",
       "\n",
       "    .dataframe tbody tr th {\n",
       "        vertical-align: top;\n",
       "    }\n",
       "\n",
       "    .dataframe thead th {\n",
       "        text-align: right;\n",
       "    }\n",
       "</style>\n",
       "<table border=\"1\" class=\"dataframe\">\n",
       "  <thead>\n",
       "    <tr style=\"text-align: right;\">\n",
       "      <th></th>\n",
       "      <th>id</th>\n",
       "      <th>user_id</th>\n",
       "      <th>customer_id</th>\n",
       "      <th>price</th>\n",
       "      <th>service_price</th>\n",
       "      <th>product_price</th>\n",
       "      <th>note_text</th>\n",
       "      <th>date</th>\n",
       "      <th>status</th>\n",
       "      <th>created</th>\n",
       "      <th>modified</th>\n",
       "      <th>note_image</th>\n",
       "    </tr>\n",
       "  </thead>\n",
       "  <tbody>\n",
       "    <tr>\n",
       "      <th>0</th>\n",
       "      <td>1</td>\n",
       "      <td>13.0</td>\n",
       "      <td>1.0</td>\n",
       "      <td>NaN</td>\n",
       "      <td>[{\"service\":\"Nails\",\"price\":\"20.1\"},{\"service\"...</td>\n",
       "      <td>NaN</td>\n",
       "      <td>test data only</td>\n",
       "      <td>1987-09-10</td>\n",
       "      <td>1</td>\n",
       "      <td>1533294899</td>\n",
       "      <td>1533294899</td>\n",
       "      <td>NaN</td>\n",
       "    </tr>\n",
       "    <tr>\n",
       "      <th>1</th>\n",
       "      <td>2</td>\n",
       "      <td>13.0</td>\n",
       "      <td>1.0</td>\n",
       "      <td>NaN</td>\n",
       "      <td>[{\"service\":\"Nails\",\"price\":\"20.1\"},{\"service\"...</td>\n",
       "      <td>NaN</td>\n",
       "      <td>test data only</td>\n",
       "      <td>1987-09-10</td>\n",
       "      <td>1</td>\n",
       "      <td>1533295093</td>\n",
       "      <td>1533295093</td>\n",
       "      <td>NaN</td>\n",
       "    </tr>\n",
       "    <tr>\n",
       "      <th>2</th>\n",
       "      <td>4</td>\n",
       "      <td>13.0</td>\n",
       "      <td>1.0</td>\n",
       "      <td>NaN</td>\n",
       "      <td>[{\"service\":\"Nails\",\"price\":\"20.1\"},{\"service\"...</td>\n",
       "      <td>NaN</td>\n",
       "      <td>test data only</td>\n",
       "      <td>1987-09-10</td>\n",
       "      <td>1</td>\n",
       "      <td>1533365639</td>\n",
       "      <td>1533365639</td>\n",
       "      <td>NaN</td>\n",
       "    </tr>\n",
       "    <tr>\n",
       "      <th>3</th>\n",
       "      <td>10</td>\n",
       "      <td>33.0</td>\n",
       "      <td>126.0</td>\n",
       "      <td>NaN</td>\n",
       "      <td>[{\"service\":\"\\u30a2\\u30a4\\u30e9\\u30c3\\u30b7\\u3...</td>\n",
       "      <td>NaN</td>\n",
       "      <td>Testing Note</td>\n",
       "      <td>2018-08-05</td>\n",
       "      <td>1</td>\n",
       "      <td>1533707849</td>\n",
       "      <td>1539067124</td>\n",
       "      <td>file_15344868560.jpg</td>\n",
       "    </tr>\n",
       "    <tr>\n",
       "      <th>4</th>\n",
       "      <td>7</td>\n",
       "      <td>102.0</td>\n",
       "      <td>127.0</td>\n",
       "      <td>NaN</td>\n",
       "      <td>[{\"service\":\"\\u30cd\\u30a4\\u30eb\",\"price\":\"5000...</td>\n",
       "      <td>NaN</td>\n",
       "      <td>Hfkdmdnd</td>\n",
       "      <td>2018-08-06</td>\n",
       "      <td>1</td>\n",
       "      <td>1533520516</td>\n",
       "      <td>1533520516</td>\n",
       "      <td>file_15335205050.jpg</td>\n",
       "    </tr>\n",
       "  </tbody>\n",
       "</table>\n",
       "</div>"
      ],
      "text/plain": [
       "   id  user_id  customer_id  price  \\\n",
       "0   1     13.0          1.0    NaN   \n",
       "1   2     13.0          1.0    NaN   \n",
       "2   4     13.0          1.0    NaN   \n",
       "3  10     33.0        126.0    NaN   \n",
       "4   7    102.0        127.0    NaN   \n",
       "\n",
       "                                       service_price product_price  \\\n",
       "0  [{\"service\":\"Nails\",\"price\":\"20.1\"},{\"service\"...           NaN   \n",
       "1  [{\"service\":\"Nails\",\"price\":\"20.1\"},{\"service\"...           NaN   \n",
       "2  [{\"service\":\"Nails\",\"price\":\"20.1\"},{\"service\"...           NaN   \n",
       "3  [{\"service\":\"\\u30a2\\u30a4\\u30e9\\u30c3\\u30b7\\u3...           NaN   \n",
       "4  [{\"service\":\"\\u30cd\\u30a4\\u30eb\",\"price\":\"5000...           NaN   \n",
       "\n",
       "        note_text        date  status     created    modified  \\\n",
       "0  test data only  1987-09-10       1  1533294899  1533294899   \n",
       "1  test data only  1987-09-10       1  1533295093  1533295093   \n",
       "2  test data only  1987-09-10       1  1533365639  1533365639   \n",
       "3    Testing Note  2018-08-05       1  1533707849  1539067124   \n",
       "4        Hfkdmdnd  2018-08-06       1  1533520516  1533520516   \n",
       "\n",
       "             note_image  \n",
       "0                   NaN  \n",
       "1                   NaN  \n",
       "2                   NaN  \n",
       "3  file_15344868560.jpg  \n",
       "4  file_15335205050.jpg  "
      ]
     },
     "execution_count": 4,
     "metadata": {},
     "output_type": "execute_result"
    }
   ],
   "source": [
    "data.head()"
   ]
  },
  {
   "cell_type": "code",
   "execution_count": 5,
   "metadata": {
    "collapsed": true
   },
   "outputs": [],
   "source": [
    "user_102=data[data['user_id']==102.0]"
   ]
  },
  {
   "cell_type": "code",
   "execution_count": 6,
   "metadata": {},
   "outputs": [
    {
     "data": {
      "text/html": [
       "<div>\n",
       "<style scoped>\n",
       "    .dataframe tbody tr th:only-of-type {\n",
       "        vertical-align: middle;\n",
       "    }\n",
       "\n",
       "    .dataframe tbody tr th {\n",
       "        vertical-align: top;\n",
       "    }\n",
       "\n",
       "    .dataframe thead th {\n",
       "        text-align: right;\n",
       "    }\n",
       "</style>\n",
       "<table border=\"1\" class=\"dataframe\">\n",
       "  <thead>\n",
       "    <tr style=\"text-align: right;\">\n",
       "      <th></th>\n",
       "      <th>id</th>\n",
       "      <th>user_id</th>\n",
       "      <th>customer_id</th>\n",
       "      <th>price</th>\n",
       "      <th>service_price</th>\n",
       "      <th>product_price</th>\n",
       "      <th>note_text</th>\n",
       "      <th>date</th>\n",
       "      <th>status</th>\n",
       "      <th>created</th>\n",
       "      <th>modified</th>\n",
       "      <th>note_image</th>\n",
       "    </tr>\n",
       "  </thead>\n",
       "  <tbody>\n",
       "    <tr>\n",
       "      <th>0</th>\n",
       "      <td>7</td>\n",
       "      <td>102.0</td>\n",
       "      <td>127.0</td>\n",
       "      <td>NaN</td>\n",
       "      <td>[{\"service\":\"\\u30cd\\u30a4\\u30eb\",\"price\":\"5000...</td>\n",
       "      <td>NaN</td>\n",
       "      <td>Hfkdmdnd</td>\n",
       "      <td>2018-08-06</td>\n",
       "      <td>1</td>\n",
       "      <td>1533520516</td>\n",
       "      <td>1533520516</td>\n",
       "      <td>file_15335205050.jpg</td>\n",
       "    </tr>\n",
       "    <tr>\n",
       "      <th>1</th>\n",
       "      <td>118</td>\n",
       "      <td>102.0</td>\n",
       "      <td>259.0</td>\n",
       "      <td>NaN</td>\n",
       "      <td>[{\"service\":\"\\u30cd\\u30a4\\u30eb\",\"price\":\"756\\...</td>\n",
       "      <td>NaN</td>\n",
       "      <td>グリーンネイルの爪を長さだし、アート</td>\n",
       "      <td>2018-09-05</td>\n",
       "      <td>1</td>\n",
       "      <td>1536111670</td>\n",
       "      <td>1536111670</td>\n",
       "      <td>NaN</td>\n",
       "    </tr>\n",
       "    <tr>\n",
       "      <th>2</th>\n",
       "      <td>119</td>\n",
       "      <td>102.0</td>\n",
       "      <td>289.0</td>\n",
       "      <td>NaN</td>\n",
       "      <td>[{\"service\":\"\\u30cd\\u30a4\\u30eb\",\"price\":\"6,80...</td>\n",
       "      <td>NaN</td>\n",
       "      <td>ウエディングネイル\\n普段はあまりネイルしない\\n大阪に引っ越す</td>\n",
       "      <td>2018-09-05</td>\n",
       "      <td>1</td>\n",
       "      <td>1536120590</td>\n",
       "      <td>1536120590</td>\n",
       "      <td>NaN</td>\n",
       "    </tr>\n",
       "    <tr>\n",
       "      <th>3</th>\n",
       "      <td>120</td>\n",
       "      <td>102.0</td>\n",
       "      <td>290.0</td>\n",
       "      <td>NaN</td>\n",
       "      <td>[{\"service\":\"\\u30cd\\u30a4\\u30eb\",\"price\":\"6,80...</td>\n",
       "      <td>NaN</td>\n",
       "      <td>仕事休みできた。有給たくさんある。</td>\n",
       "      <td>2018-09-05</td>\n",
       "      <td>1</td>\n",
       "      <td>1536126285</td>\n",
       "      <td>1536126285</td>\n",
       "      <td>NaN</td>\n",
       "    </tr>\n",
       "    <tr>\n",
       "      <th>4</th>\n",
       "      <td>121</td>\n",
       "      <td>102.0</td>\n",
       "      <td>291.0</td>\n",
       "      <td>NaN</td>\n",
       "      <td>[{\"service\":\"\\u30cd\\u30a4\\u30eb\",\"price\":\"11,8...</td>\n",
       "      <td>NaN</td>\n",
       "      <td>Hey!Say!JUMPがすき\\nライブ行く\\n青が好き\\n</td>\n",
       "      <td>2018-09-05</td>\n",
       "      <td>1</td>\n",
       "      <td>1536134522</td>\n",
       "      <td>1536134522</td>\n",
       "      <td>NaN</td>\n",
       "    </tr>\n",
       "  </tbody>\n",
       "</table>\n",
       "</div>"
      ],
      "text/plain": [
       "    id  user_id  customer_id  price  \\\n",
       "0    7    102.0        127.0    NaN   \n",
       "1  118    102.0        259.0    NaN   \n",
       "2  119    102.0        289.0    NaN   \n",
       "3  120    102.0        290.0    NaN   \n",
       "4  121    102.0        291.0    NaN   \n",
       "\n",
       "                                       service_price product_price  \\\n",
       "0  [{\"service\":\"\\u30cd\\u30a4\\u30eb\",\"price\":\"5000...           NaN   \n",
       "1  [{\"service\":\"\\u30cd\\u30a4\\u30eb\",\"price\":\"756\\...           NaN   \n",
       "2  [{\"service\":\"\\u30cd\\u30a4\\u30eb\",\"price\":\"6,80...           NaN   \n",
       "3  [{\"service\":\"\\u30cd\\u30a4\\u30eb\",\"price\":\"6,80...           NaN   \n",
       "4  [{\"service\":\"\\u30cd\\u30a4\\u30eb\",\"price\":\"11,8...           NaN   \n",
       "\n",
       "                          note_text        date  status     created  \\\n",
       "0                          Hfkdmdnd  2018-08-06       1  1533520516   \n",
       "1                グリーンネイルの爪を長さだし、アート  2018-09-05       1  1536111670   \n",
       "2  ウエディングネイル\\n普段はあまりネイルしない\\n大阪に引っ越す  2018-09-05       1  1536120590   \n",
       "3                 仕事休みできた。有給たくさんある。  2018-09-05       1  1536126285   \n",
       "4    Hey!Say!JUMPがすき\\nライブ行く\\n青が好き\\n  2018-09-05       1  1536134522   \n",
       "\n",
       "     modified            note_image  \n",
       "0  1533520516  file_15335205050.jpg  \n",
       "1  1536111670                   NaN  \n",
       "2  1536120590                   NaN  \n",
       "3  1536126285                   NaN  \n",
       "4  1536134522                   NaN  "
      ]
     },
     "execution_count": 6,
     "metadata": {},
     "output_type": "execute_result"
    }
   ],
   "source": [
    "user_102=user_102.reset_index()\n",
    "del user_102['index']\n",
    "user_102.head()"
   ]
  },
  {
   "cell_type": "code",
   "execution_count": 356,
   "metadata": {
    "collapsed": true
   },
   "outputs": [],
   "source": [
    "grouped=user_102.groupby(user_102['customer_id'])"
   ]
  },
  {
   "cell_type": "code",
   "execution_count": 357,
   "metadata": {
    "collapsed": true
   },
   "outputs": [],
   "source": [
    "# user_102.groupby(user_102['customer_id']).groups"
   ]
  },
  {
   "cell_type": "code",
   "execution_count": 358,
   "metadata": {},
   "outputs": [
    {
     "data": {
      "text/plain": [
       "(1239, 14)"
      ]
     },
     "execution_count": 358,
     "metadata": {},
     "output_type": "execute_result"
    }
   ],
   "source": [
    "user_102.shape"
   ]
  },
  {
   "cell_type": "code",
   "execution_count": 359,
   "metadata": {},
   "outputs": [
    {
     "data": {
      "text/plain": [
       "id                        int64\n",
       "user_id                 float64\n",
       "customer_id             float64\n",
       "price                   float64\n",
       "service_price            object\n",
       "product_price            object\n",
       "note_text                object\n",
       "date             datetime64[ns]\n",
       "status                    int64\n",
       "created                   int64\n",
       "modified                  int64\n",
       "note_image               object\n",
       "Month                     int64\n",
       "Year                      int64\n",
       "dtype: object"
      ]
     },
     "execution_count": 359,
     "metadata": {},
     "output_type": "execute_result"
    }
   ],
   "source": [
    "user_102.dtypes"
   ]
  },
  {
   "cell_type": "code",
   "execution_count": 360,
   "metadata": {
    "collapsed": true
   },
   "outputs": [],
   "source": [
    "a=user_102['date'][0]"
   ]
  },
  {
   "cell_type": "code",
   "execution_count": 361,
   "metadata": {
    "collapsed": true
   },
   "outputs": [],
   "source": [
    "user_102['date']=pd.to_datetime(user_102['date'])"
   ]
  },
  {
   "cell_type": "code",
   "execution_count": 362,
   "metadata": {
    "collapsed": true
   },
   "outputs": [],
   "source": [
    "user_102['Month']=user_102['date'].apply(lambda x:x.month)"
   ]
  },
  {
   "cell_type": "code",
   "execution_count": 363,
   "metadata": {
    "collapsed": true
   },
   "outputs": [],
   "source": [
    "user_102['Year']=user_102['date'].apply(lambda x:x.year)"
   ]
  },
  {
   "cell_type": "code",
   "execution_count": 364,
   "metadata": {},
   "outputs": [
    {
     "data": {
      "text/html": [
       "<div>\n",
       "<style scoped>\n",
       "    .dataframe tbody tr th:only-of-type {\n",
       "        vertical-align: middle;\n",
       "    }\n",
       "\n",
       "    .dataframe tbody tr th {\n",
       "        vertical-align: top;\n",
       "    }\n",
       "\n",
       "    .dataframe thead th {\n",
       "        text-align: right;\n",
       "    }\n",
       "</style>\n",
       "<table border=\"1\" class=\"dataframe\">\n",
       "  <thead>\n",
       "    <tr style=\"text-align: right;\">\n",
       "      <th></th>\n",
       "      <th>id</th>\n",
       "      <th>user_id</th>\n",
       "      <th>customer_id</th>\n",
       "      <th>price</th>\n",
       "      <th>service_price</th>\n",
       "      <th>product_price</th>\n",
       "      <th>note_text</th>\n",
       "      <th>date</th>\n",
       "      <th>status</th>\n",
       "      <th>created</th>\n",
       "      <th>modified</th>\n",
       "      <th>note_image</th>\n",
       "      <th>Month</th>\n",
       "      <th>Year</th>\n",
       "    </tr>\n",
       "  </thead>\n",
       "  <tbody>\n",
       "    <tr>\n",
       "      <th>0</th>\n",
       "      <td>7</td>\n",
       "      <td>102.0</td>\n",
       "      <td>127.0</td>\n",
       "      <td>NaN</td>\n",
       "      <td>[{\"service\":\"\\u30cd\\u30a4\\u30eb\",\"price\":\"5000...</td>\n",
       "      <td>NaN</td>\n",
       "      <td>Hfkdmdnd</td>\n",
       "      <td>2018-08-06</td>\n",
       "      <td>1</td>\n",
       "      <td>1533520516</td>\n",
       "      <td>1533520516</td>\n",
       "      <td>file_15335205050.jpg</td>\n",
       "      <td>8</td>\n",
       "      <td>2018</td>\n",
       "    </tr>\n",
       "    <tr>\n",
       "      <th>1</th>\n",
       "      <td>118</td>\n",
       "      <td>102.0</td>\n",
       "      <td>259.0</td>\n",
       "      <td>NaN</td>\n",
       "      <td>[{\"service\":\"\\u30cd\\u30a4\\u30eb\",\"price\":\"756\\...</td>\n",
       "      <td>NaN</td>\n",
       "      <td>グリーンネイルの爪を長さだし、アート</td>\n",
       "      <td>2018-09-05</td>\n",
       "      <td>1</td>\n",
       "      <td>1536111670</td>\n",
       "      <td>1536111670</td>\n",
       "      <td>NaN</td>\n",
       "      <td>9</td>\n",
       "      <td>2018</td>\n",
       "    </tr>\n",
       "    <tr>\n",
       "      <th>2</th>\n",
       "      <td>119</td>\n",
       "      <td>102.0</td>\n",
       "      <td>289.0</td>\n",
       "      <td>NaN</td>\n",
       "      <td>[{\"service\":\"\\u30cd\\u30a4\\u30eb\",\"price\":\"6,80...</td>\n",
       "      <td>NaN</td>\n",
       "      <td>ウエディングネイル\\n普段はあまりネイルしない\\n大阪に引っ越す</td>\n",
       "      <td>2018-09-05</td>\n",
       "      <td>1</td>\n",
       "      <td>1536120590</td>\n",
       "      <td>1536120590</td>\n",
       "      <td>NaN</td>\n",
       "      <td>9</td>\n",
       "      <td>2018</td>\n",
       "    </tr>\n",
       "    <tr>\n",
       "      <th>3</th>\n",
       "      <td>120</td>\n",
       "      <td>102.0</td>\n",
       "      <td>290.0</td>\n",
       "      <td>NaN</td>\n",
       "      <td>[{\"service\":\"\\u30cd\\u30a4\\u30eb\",\"price\":\"6,80...</td>\n",
       "      <td>NaN</td>\n",
       "      <td>仕事休みできた。有給たくさんある。</td>\n",
       "      <td>2018-09-05</td>\n",
       "      <td>1</td>\n",
       "      <td>1536126285</td>\n",
       "      <td>1536126285</td>\n",
       "      <td>NaN</td>\n",
       "      <td>9</td>\n",
       "      <td>2018</td>\n",
       "    </tr>\n",
       "    <tr>\n",
       "      <th>4</th>\n",
       "      <td>121</td>\n",
       "      <td>102.0</td>\n",
       "      <td>291.0</td>\n",
       "      <td>NaN</td>\n",
       "      <td>[{\"service\":\"\\u30cd\\u30a4\\u30eb\",\"price\":\"11,8...</td>\n",
       "      <td>NaN</td>\n",
       "      <td>Hey!Say!JUMPがすき\\nライブ行く\\n青が好き\\n</td>\n",
       "      <td>2018-09-05</td>\n",
       "      <td>1</td>\n",
       "      <td>1536134522</td>\n",
       "      <td>1536134522</td>\n",
       "      <td>NaN</td>\n",
       "      <td>9</td>\n",
       "      <td>2018</td>\n",
       "    </tr>\n",
       "  </tbody>\n",
       "</table>\n",
       "</div>"
      ],
      "text/plain": [
       "    id  user_id  customer_id  price  \\\n",
       "0    7    102.0        127.0    NaN   \n",
       "1  118    102.0        259.0    NaN   \n",
       "2  119    102.0        289.0    NaN   \n",
       "3  120    102.0        290.0    NaN   \n",
       "4  121    102.0        291.0    NaN   \n",
       "\n",
       "                                       service_price product_price  \\\n",
       "0  [{\"service\":\"\\u30cd\\u30a4\\u30eb\",\"price\":\"5000...           NaN   \n",
       "1  [{\"service\":\"\\u30cd\\u30a4\\u30eb\",\"price\":\"756\\...           NaN   \n",
       "2  [{\"service\":\"\\u30cd\\u30a4\\u30eb\",\"price\":\"6,80...           NaN   \n",
       "3  [{\"service\":\"\\u30cd\\u30a4\\u30eb\",\"price\":\"6,80...           NaN   \n",
       "4  [{\"service\":\"\\u30cd\\u30a4\\u30eb\",\"price\":\"11,8...           NaN   \n",
       "\n",
       "                          note_text       date  status     created  \\\n",
       "0                          Hfkdmdnd 2018-08-06       1  1533520516   \n",
       "1                グリーンネイルの爪を長さだし、アート 2018-09-05       1  1536111670   \n",
       "2  ウエディングネイル\\n普段はあまりネイルしない\\n大阪に引っ越す 2018-09-05       1  1536120590   \n",
       "3                 仕事休みできた。有給たくさんある。 2018-09-05       1  1536126285   \n",
       "4    Hey!Say!JUMPがすき\\nライブ行く\\n青が好き\\n 2018-09-05       1  1536134522   \n",
       "\n",
       "     modified            note_image  Month  Year  \n",
       "0  1533520516  file_15335205050.jpg      8  2018  \n",
       "1  1536111670                   NaN      9  2018  \n",
       "2  1536120590                   NaN      9  2018  \n",
       "3  1536126285                   NaN      9  2018  \n",
       "4  1536134522                   NaN      9  2018  "
      ]
     },
     "execution_count": 364,
     "metadata": {},
     "output_type": "execute_result"
    }
   ],
   "source": [
    "user_102['day']"
   ]
  },
  {
   "cell_type": "code",
   "execution_count": 365,
   "metadata": {},
   "outputs": [
    {
     "data": {
      "text/plain": [
       "id                  0\n",
       "user_id             0\n",
       "customer_id         0\n",
       "price            1239\n",
       "service_price     876\n",
       "product_price    1239\n",
       "note_text         566\n",
       "date                0\n",
       "status              0\n",
       "created             0\n",
       "modified            0\n",
       "note_image       1227\n",
       "Month               0\n",
       "Year                0\n",
       "dtype: int64"
      ]
     },
     "execution_count": 365,
     "metadata": {},
     "output_type": "execute_result"
    }
   ],
   "source": [
    "user_102.isnull().sum()\n",
    "# Here, there are 6 rows which have missing values,so I am dropping it because without date there is no significance of it"
   ]
  },
  {
   "cell_type": "code",
   "execution_count": 366,
   "metadata": {},
   "outputs": [
    {
     "data": {
      "text/plain": [
       "0"
      ]
     },
     "execution_count": 366,
     "metadata": {},
     "output_type": "execute_result"
    }
   ],
   "source": [
    "user_102['date'].isnull().sum()"
   ]
  },
  {
   "cell_type": "code",
   "execution_count": 367,
   "metadata": {
    "collapsed": true
   },
   "outputs": [],
   "source": [
    "user_102=user_102.dropna(subset=['date'])"
   ]
  },
  {
   "cell_type": "code",
   "execution_count": 368,
   "metadata": {},
   "outputs": [
    {
     "data": {
      "text/plain": [
       "id                  0\n",
       "user_id             0\n",
       "customer_id         0\n",
       "price            1239\n",
       "service_price     876\n",
       "product_price    1239\n",
       "note_text         566\n",
       "date                0\n",
       "status              0\n",
       "created             0\n",
       "modified            0\n",
       "note_image       1227\n",
       "Month               0\n",
       "Year                0\n",
       "dtype: int64"
      ]
     },
     "execution_count": 368,
     "metadata": {},
     "output_type": "execute_result"
    }
   ],
   "source": [
    "user_102.isnull().sum()"
   ]
  },
  {
   "cell_type": "code",
   "execution_count": 369,
   "metadata": {
    "collapsed": true
   },
   "outputs": [],
   "source": [
    "user_102.Month=user_102.Month.apply(lambda x: int(x))\n",
    "user_102.Year=user_102.Year.apply(lambda x: int(x))"
   ]
  },
  {
   "cell_type": "code",
   "execution_count": 370,
   "metadata": {
    "collapsed": true
   },
   "outputs": [],
   "source": [
    "g = user_102[['customer_id','Month','Year']].groupby(['Month','Year']).agg('count')"
   ]
  },
  {
   "cell_type": "code",
   "execution_count": 371,
   "metadata": {
    "collapsed": true
   },
   "outputs": [],
   "source": [
    "g=pd.DataFrame(g)"
   ]
  },
  {
   "cell_type": "code",
   "execution_count": 372,
   "metadata": {
    "collapsed": true
   },
   "outputs": [],
   "source": [
    "g.columns=['Total_visits']"
   ]
  },
  {
   "cell_type": "code",
   "execution_count": 373,
   "metadata": {
    "collapsed": true
   },
   "outputs": [],
   "source": [
    "g=g.sort_values('Year')"
   ]
  },
  {
   "cell_type": "code",
   "execution_count": 375,
   "metadata": {
    "collapsed": true
   },
   "outputs": [],
   "source": [
    " g=g.reset_index()"
   ]
  },
  {
   "cell_type": "code",
   "execution_count": 376,
   "metadata": {},
   "outputs": [
    {
     "data": {
      "text/html": [
       "<div>\n",
       "<style scoped>\n",
       "    .dataframe tbody tr th:only-of-type {\n",
       "        vertical-align: middle;\n",
       "    }\n",
       "\n",
       "    .dataframe tbody tr th {\n",
       "        vertical-align: top;\n",
       "    }\n",
       "\n",
       "    .dataframe thead th {\n",
       "        text-align: right;\n",
       "    }\n",
       "</style>\n",
       "<table border=\"1\" class=\"dataframe\">\n",
       "  <thead>\n",
       "    <tr style=\"text-align: right;\">\n",
       "      <th></th>\n",
       "      <th>Month</th>\n",
       "      <th>Year</th>\n",
       "      <th>Total_visits</th>\n",
       "    </tr>\n",
       "  </thead>\n",
       "  <tbody>\n",
       "    <tr>\n",
       "      <th>0</th>\n",
       "      <td>7</td>\n",
       "      <td>2018</td>\n",
       "      <td>3</td>\n",
       "    </tr>\n",
       "    <tr>\n",
       "      <th>1</th>\n",
       "      <td>8</td>\n",
       "      <td>2018</td>\n",
       "      <td>64</td>\n",
       "    </tr>\n",
       "    <tr>\n",
       "      <th>2</th>\n",
       "      <td>9</td>\n",
       "      <td>2018</td>\n",
       "      <td>136</td>\n",
       "    </tr>\n",
       "    <tr>\n",
       "      <th>3</th>\n",
       "      <td>10</td>\n",
       "      <td>2018</td>\n",
       "      <td>163</td>\n",
       "    </tr>\n",
       "    <tr>\n",
       "      <th>4</th>\n",
       "      <td>11</td>\n",
       "      <td>2018</td>\n",
       "      <td>197</td>\n",
       "    </tr>\n",
       "    <tr>\n",
       "      <th>5</th>\n",
       "      <td>12</td>\n",
       "      <td>2018</td>\n",
       "      <td>217</td>\n",
       "    </tr>\n",
       "    <tr>\n",
       "      <th>6</th>\n",
       "      <td>1</td>\n",
       "      <td>2019</td>\n",
       "      <td>167</td>\n",
       "    </tr>\n",
       "    <tr>\n",
       "      <th>7</th>\n",
       "      <td>2</td>\n",
       "      <td>2019</td>\n",
       "      <td>194</td>\n",
       "    </tr>\n",
       "    <tr>\n",
       "      <th>8</th>\n",
       "      <td>3</td>\n",
       "      <td>2019</td>\n",
       "      <td>98</td>\n",
       "    </tr>\n",
       "  </tbody>\n",
       "</table>\n",
       "</div>"
      ],
      "text/plain": [
       "   Month  Year  Total_visits\n",
       "0      7  2018             3\n",
       "1      8  2018            64\n",
       "2      9  2018           136\n",
       "3     10  2018           163\n",
       "4     11  2018           197\n",
       "5     12  2018           217\n",
       "6      1  2019           167\n",
       "7      2  2019           194\n",
       "8      3  2019            98"
      ]
     },
     "execution_count": 376,
     "metadata": {},
     "output_type": "execute_result"
    }
   ],
   "source": [
    "g #here is the total visits of the customers per month."
   ]
  },
  {
   "cell_type": "code",
   "execution_count": 377,
   "metadata": {
    "collapsed": true
   },
   "outputs": [],
   "source": [
    "import matplotlib.pyplot as plt"
   ]
  },
  {
   "cell_type": "code",
   "execution_count": 379,
   "metadata": {
    "collapsed": true
   },
   "outputs": [],
   "source": [
    "g['Month']=g['Month'].apply(lambda x : datetime.date(1900,x, 1).strftime('%B'))"
   ]
  },
  {
   "cell_type": "code",
   "execution_count": 381,
   "metadata": {},
   "outputs": [
    {
     "data": {
      "image/png": "[encoded data removed]",
      "text/plain": [
       "<Figure size 1296x360 with 1 Axes>"
      ]
     },
     "metadata": {
      "needs_background": "light"
     },
     "output_type": "display_data"
    }
   ],
   "source": [
    "f, ax = plt.subplots(figsize=(18,5))\n",
    "barlist=plt.bar(g['Month'],g['Total_visits'])"
   ]
  },
  {
   "cell_type": "code",
   "execution_count": 386,
   "metadata": {
    "collapsed": true
   },
   "outputs": [],
   "source": [
    "customer_wise_data=user_102.groupby(['Month','Year']).agg('count')['date']"
   ]
  },
  {
   "cell_type": "code",
   "execution_count": 387,
   "metadata": {
    "collapsed": true
   },
   "outputs": [],
   "source": [
    "customer_wise_data=pd.DataFrame(customer_wise_data)"
   ]
  },
  {
   "cell_type": "code",
   "execution_count": 392,
   "metadata": {},
   "outputs": [
    {
     "data": {
      "text/html": [
       "<div>\n",
       "<style scoped>\n",
       "    .dataframe tbody tr th:only-of-type {\n",
       "        vertical-align: middle;\n",
       "    }\n",
       "\n",
       "    .dataframe tbody tr th {\n",
       "        vertical-align: top;\n",
       "    }\n",
       "\n",
       "    .dataframe thead th {\n",
       "        text-align: right;\n",
       "    }\n",
       "</style>\n",
       "<table border=\"1\" class=\"dataframe\">\n",
       "  <thead>\n",
       "    <tr style=\"text-align: right;\">\n",
       "      <th></th>\n",
       "      <th></th>\n",
       "      <th>date</th>\n",
       "    </tr>\n",
       "    <tr>\n",
       "      <th>Month</th>\n",
       "      <th>Year</th>\n",
       "      <th></th>\n",
       "    </tr>\n",
       "  </thead>\n",
       "  <tbody>\n",
       "    <tr>\n",
       "      <th>7</th>\n",
       "      <th>2018</th>\n",
       "      <td>3</td>\n",
       "    </tr>\n",
       "    <tr>\n",
       "      <th>8</th>\n",
       "      <th>2018</th>\n",
       "      <td>64</td>\n",
       "    </tr>\n",
       "    <tr>\n",
       "      <th>9</th>\n",
       "      <th>2018</th>\n",
       "      <td>136</td>\n",
       "    </tr>\n",
       "    <tr>\n",
       "      <th>10</th>\n",
       "      <th>2018</th>\n",
       "      <td>163</td>\n",
       "    </tr>\n",
       "    <tr>\n",
       "      <th>11</th>\n",
       "      <th>2018</th>\n",
       "      <td>197</td>\n",
       "    </tr>\n",
       "    <tr>\n",
       "      <th>12</th>\n",
       "      <th>2018</th>\n",
       "      <td>217</td>\n",
       "    </tr>\n",
       "    <tr>\n",
       "      <th>1</th>\n",
       "      <th>2019</th>\n",
       "      <td>167</td>\n",
       "    </tr>\n",
       "    <tr>\n",
       "      <th>2</th>\n",
       "      <th>2019</th>\n",
       "      <td>194</td>\n",
       "    </tr>\n",
       "    <tr>\n",
       "      <th>3</th>\n",
       "      <th>2019</th>\n",
       "      <td>98</td>\n",
       "    </tr>\n",
       "  </tbody>\n",
       "</table>\n",
       "</div>"
      ],
      "text/plain": [
       "            date\n",
       "Month Year      \n",
       "7     2018     3\n",
       "8     2018    64\n",
       "9     2018   136\n",
       "10    2018   163\n",
       "11    2018   197\n",
       "12    2018   217\n",
       "1     2019   167\n",
       "2     2019   194\n",
       "3     2019    98"
      ]
     },
     "execution_count": 392,
     "metadata": {},
     "output_type": "execute_result"
    }
   ],
   "source": [
    "customer_wise_data=customer_wise_data.sort_values('Year')\n",
    "customer_wise_data"
   ]
  },
  {
   "cell_type": "code",
   "execution_count": 393,
   "metadata": {
    "collapsed": true
   },
   "outputs": [],
   "source": [
    "train=customer_wise_data[:7]\n",
    "test=customer_wise_data[7:]"
   ]
  },
  {
   "cell_type": "markdown",
   "metadata": {},
   "source": [
    "## Giving Time series prediction using ARIMA model"
   ]
  },
  {
   "cell_type": "code",
   "execution_count": 423,
   "metadata": {
    "collapsed": true
   },
   "outputs": [],
   "source": [
    "from statsmodels.tsa.arima_model import ARIMA"
   ]
  },
  {
   "cell_type": "markdown",
   "metadata": {},
   "source": [
    "## Fitting line over training data"
   ]
  },
  {
   "cell_type": "code",
   "execution_count": 538,
   "metadata": {},
   "outputs": [
    {
     "name": "stderr",
     "output_type": "stream",
     "text": [
      "/home/ayushi/anaconda3/lib/python3.7/site-packages/statsmodels/tsa/base/tsa_model.py:221: ValueWarning: An unsupported index was provided and will be ignored when e.g. forecasting.\n",
      "  ' ignored when e.g. forecasting.', ValueWarning)\n"
     ]
    }
   ],
   "source": [
    "model=ARIMA(train,order=(0,0,1))"
   ]
  },
  {
   "cell_type": "code",
   "execution_count": 539,
   "metadata": {
    "collapsed": true
   },
   "outputs": [],
   "source": [
    "model_fit = model.fit()"
   ]
  },
  {
   "cell_type": "code",
   "execution_count": 540,
   "metadata": {},
   "outputs": [
    {
     "name": "stdout",
     "output_type": "stream",
     "text": [
      "7    122.893261\n",
      "8    125.749769\n",
      "dtype: float64\n"
     ]
    },
    {
     "name": "stderr",
     "output_type": "stream",
     "text": [
      "/home/ayushi/anaconda3/lib/python3.7/site-packages/statsmodels/tsa/base/tsa_model.py:531: ValueWarning: No supported index is available. Prediction results will be given with an integer index beginning at `start`.\n",
      "  ValueWarning)\n"
     ]
    }
   ],
   "source": [
    "predictions = model_fit.predict(start=len(train), end=len(train)+1)\n",
    "print(predictions)"
   ]
  },
  {
   "cell_type": "markdown",
   "metadata": {},
   "source": [
    "## Now fitting entire data on ARIMA model."
   ]
  },
  {
   "cell_type": "code",
   "execution_count": 542,
   "metadata": {},
   "outputs": [
    {
     "name": "stderr",
     "output_type": "stream",
     "text": [
      "/home/ayushi/anaconda3/lib/python3.7/site-packages/statsmodels/tsa/base/tsa_model.py:221: ValueWarning: An unsupported index was provided and will be ignored when e.g. forecasting.\n",
      "  ' ignored when e.g. forecasting.', ValueWarning)\n"
     ]
    }
   ],
   "source": [
    "model=ARIMA(customer_wise_data,order=(0,0,1))\n",
    "model_fit = model.fit()"
   ]
  },
  {
   "cell_type": "code",
   "execution_count": 523,
   "metadata": {},
   "outputs": [
    {
     "name": "stderr",
     "output_type": "stream",
     "text": [
      "/home/ayushi/anaconda3/lib/python3.7/site-packages/statsmodels/tsa/base/tsa_model.py:221: ValueWarning: An unsupported index was provided and will be ignored when e.g. forecasting.\n",
      "  ' ignored when e.g. forecasting.', ValueWarning)\n"
     ]
    }
   ],
   "source": [
    "model=ARIMA(customer_wise_data,order=(1,0,0))"
   ]
  },
  {
   "cell_type": "code",
   "execution_count": 524,
   "metadata": {
    "collapsed": true
   },
   "outputs": [],
   "source": [
    "model_fit = model.fit()"
   ]
  },
  {
   "cell_type": "code",
   "execution_count": 550,
   "metadata": {},
   "outputs": [
    {
     "name": "stdout",
     "output_type": "stream",
     "text": [
      "Prediction for three Months------------\n",
      " 9      84.0\n",
      "10    127.0\n",
      "11    127.0\n",
      "dtype: float64\n"
     ]
    },
    {
     "name": "stderr",
     "output_type": "stream",
     "text": [
      "/home/ayushi/anaconda3/lib/python3.7/site-packages/statsmodels/tsa/base/tsa_model.py:531: ValueWarning: No supported index is available. Prediction results will be given with an integer index beginning at `start`.\n",
      "  ValueWarning)\n"
     ]
    }
   ],
   "source": [
    "predictions = model_fit.predict(start=len(customer_wise_data), end=len(customer_wise_data)+2)\n",
    "print(\"Prediction for three Months------------\\n\",round(predictions))"
   ]
  },
  {
   "cell_type": "code",
   "execution_count": null,
   "metadata": {
    "collapsed": true
   },
   "outputs": [],
   "source": []
  }
 ],
 "metadata": {
  "kernelspec": {
   "display_name": "Python 3",
   "language": "python",
   "name": "python3"
  },
  "language_info": {
   "codemirror_mode": {
    "name": "ipython",
    "version": 3
   },
   "file_extension": ".py",
   "mimetype": "text/x-python",
   "name": "python",
   "nbconvert_exporter": "python",
   "pygments_lexer": "ipython3",
   "version": "3.6.3"
  }
 },
 "nbformat": 4,
 "nbformat_minor": 2
}
